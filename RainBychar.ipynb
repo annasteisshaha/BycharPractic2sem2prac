{
 "cells": [
  {
   "cell_type": "code",
   "execution_count": 18,
   "id": "02badc0f",
   "metadata": {},
   "outputs": [],
   "source": [
    "import tkinter as tk\n",
    "from random import randint\n",
    "\n",
    "class a_drop:\n",
    "    def __init__(self, canvas, x, y, yspeed, length, color='blue'):\n",
    "        self.x = x\n",
    "        self.y = y\n",
    "        self.yspeed = yspeed\n",
    "        self.length = length\n",
    "        self.canvas = canvas\n",
    "        self.line = canvas.create_line(self.x, self.y, self.x, self.y+length, fill=color)\n",
    "\n",
    "    def move(self):\n",
    "        self.y += self.yspeed\n",
    "        self.canvas.move(self.line, 0, self.yspeed)\n",
    "        if self.y > 500:\n",
    "            self.x = randint(0, 500)\n",
    "            self.y = 0\n",
    "            self.canvas.coords(self.line, self.x, self.y, self.x, self.y+self.length)\n",
    "\n",
    "def update():\n",
    "    for drop in drops:\n",
    "        drop.move()\n",
    "    root.after(10, update)\n",
    "\n",
    "root = tk.Tk()\n",
    "canvas = tk.Canvas(root, width=500, height=500, bg = 'gray10')\n",
    "canvas.pack()\n",
    "\n",
    "drops = [a_drop(canvas, x=randint(0, 500), y=randint(0, 500), yspeed=randint(5, 10), length=randint(5, 15)) for i in range(200)]\n",
    "\n",
    "update()\n",
    "root.mainloop()"
   ]
  },
  {
   "cell_type": "code",
   "execution_count": null,
   "id": "f8fb077c",
   "metadata": {},
   "outputs": [],
   "source": []
  }
 ],
 "metadata": {
  "kernelspec": {
   "display_name": "Python 3 (ipykernel)",
   "language": "python",
   "name": "python3"
  },
  "language_info": {
   "codemirror_mode": {
    "name": "ipython",
    "version": 3
   },
   "file_extension": ".py",
   "mimetype": "text/x-python",
   "name": "python",
   "nbconvert_exporter": "python",
   "pygments_lexer": "ipython3",
   "version": "3.9.7"
  }
 },
 "nbformat": 4,
 "nbformat_minor": 5
}
